{
 "cells": [
  {
   "cell_type": "code",
   "execution_count": 1,
   "metadata": {},
   "outputs": [],
   "source": [
    "import os\n",
    "os.environ[\"CUDA_VISIBLE_DEVICES\"] = \"1\"\n",
    "import warnings\n",
    "warnings.filterwarnings(\"ignore\")\n",
    "import tensorflow as tf\n",
    "import numpy as np\n",
    "config = tf.ConfigProto()\n",
    "config.gpu_options.allow_growth=True\n",
    "# init_features, init_labels = np.random.random((100000,100)), np.random.random((100000,1))\n",
    "graph1 = tf.Graph()\n",
    "import time\n",
    "\n",
    "def datagenerator():\n",
    "    while True:\n",
    "        time.sleep(1)\n",
    "        init_features, init_labels = np.random.random((100)), np.random.random((1))\n",
    "        yield init_features, init_labels\n",
    "\n",
    "def time_consumer(thresh):\n",
    "    i = tf.constant(0)\n",
    "    c = lambda i: tf.less(i, thresh)\n",
    "    b = lambda i: tf.add(i, 1)\n",
    "    r = tf.while_loop(c, b, [i], return_same_structure=True)\n",
    "    return r\n",
    "\n",
    "with graph1.as_default():\n",
    "#     input_features = tf.placeholder(tf.float32, shape=[None,100] , name = 'input')\n",
    "#     input_labels = tf.placeholder(tf.float32, shape=[None, 1], name = 'labels')\n",
    "#     dataset = tf.data.Dataset.from_tensor_slices((input_features,input_labels))\n",
    "#     dataset = dataset.batch(100000)\n",
    "#     dataset = dataset.repeat(-1)\n",
    "#     dataset = dataset.prefetch(1)\n",
    "    dataset = tf.data.Dataset().from_generator(datagenerator, output_types= (tf.float32, tf.float32), \n",
    "                                           output_shapes=(tf.TensorShape([100]),tf.TensorShape([1]))).batch(10)\n",
    "#     dataset = dataset.prefetch(10)\n",
    "    data_iter = dataset.make_initializable_iterator()\n",
    "    features, labels = data_iter.get_next()\n",
    "    net = tf.layers.dense(features,100,activation=tf.sigmoid)\n",
    "    net = tf.layers.dense(net,1,activation=tf.sigmoid)\n",
    "    loss = tf.losses.mean_squared_error(net,labels)\n",
    "    with tf.control_dependencies(time_consumer(int(1e7))):\n",
    "        train_op = tf.train.AdamOptimizer().minimize(loss)\n",
    "    init = tf.global_variables_initializer()"
   ]
  },
  {
   "cell_type": "code",
   "execution_count": 2,
   "metadata": {},
   "outputs": [
    {
     "name": "stdout",
     "output_type": "stream",
     "text": [
      "0.09049931\n",
      "0.103727855\n",
      "CPU times: user 1min 27s, sys: 613 ms, total: 1min 27s\n",
      "Wall time: 1min 27s\n"
     ]
    }
   ],
   "source": [
    "%%time\n",
    "with tf.Session(graph=graph1, config = config) as sess:\n",
    "    sess.run([data_iter.initializer, init])\n",
    "    for _ in range(2):\n",
    "        _, loss_val, f = sess.run([train_op, loss, features])\n",
    "        print(loss_val)"
   ]
  },
  {
   "cell_type": "code",
   "execution_count": null,
   "metadata": {},
   "outputs": [],
   "source": []
  }
 ],
 "metadata": {
  "kernelspec": {
   "display_name": "Python 3",
   "language": "python",
   "name": "python3"
  },
  "language_info": {
   "codemirror_mode": {
    "name": "ipython",
    "version": 3
   },
   "file_extension": ".py",
   "mimetype": "text/x-python",
   "name": "python",
   "nbconvert_exporter": "python",
   "pygments_lexer": "ipython3",
   "version": "3.5.2"
  }
 },
 "nbformat": 4,
 "nbformat_minor": 2
}
