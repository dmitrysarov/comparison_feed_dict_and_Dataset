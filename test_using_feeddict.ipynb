{
 "cells": [
  {
   "cell_type": "code",
   "execution_count": 1,
   "metadata": {},
   "outputs": [],
   "source": [
    "import os\n",
    "os.environ[\"CUDA_VISIBLE_DEVICES\"] = \"0\"\n",
    "import warnings\n",
    "warnings.filterwarnings(\"ignore\")\n",
    "import tensorflow as tf\n",
    "import numpy as np\n",
    "config = tf.ConfigProto()\n",
    "config.gpu_options.allow_growth=True\n",
    "# init_features, init_labels = np.random.random((100000,100)), np.random.random((100000,1))\n",
    "graph2 = tf.Graph()\n",
    "import time\n",
    "\n",
    "def datagenerator():\n",
    "    while True:\n",
    "        time.sleep(1)\n",
    "        init_features, init_labels = np.random.random((100)), np.random.random((1))\n",
    "        yield init_features, init_labels\n",
    "\n",
    "def time_consumer(thresh):\n",
    "    i = tf.constant(0)\n",
    "    c = lambda i: tf.less(i, thresh)\n",
    "    b = lambda i: tf.add(i, 1)\n",
    "    r = tf.while_loop(c, b, [i], return_same_structure=True)\n",
    "    return r\n",
    "\n",
    "with graph2.as_default():\n",
    "    input_features = tf.placeholder(tf.float32, shape=[None,100] , name = 'input')\n",
    "    input_labels = tf.placeholder(tf.float32, shape=[None, 1], name = 'labels')\n",
    "    net = tf.layers.dense(input_features,100,activation=tf.sigmoid)\n",
    "    net = tf.layers.dense(net,1,activation=tf.sigmoid)\n",
    "    loss = tf.losses.mean_squared_error(net,input_labels)\n",
    "    with tf.control_dependencies(time_consumer(int(1e7))):\n",
    "        train_op = tf.train.AdamOptimizer().minimize(loss)\n",
    "    init = tf.global_variables_initializer()"
   ]
  },
  {
   "cell_type": "code",
   "execution_count": 2,
   "metadata": {},
   "outputs": [
    {
     "name": "stdout",
     "output_type": "stream",
     "text": [
      "0.052703034\n",
      "0.105557956\n",
      "CPU times: user 1min 25s, sys: 413 ms, total: 1min 25s\n",
      "Wall time: 1min 45s\n"
     ]
    }
   ],
   "source": [
    "%%time\n",
    "with tf.Session(graph=graph2, config = config) as sess:\n",
    "    sess.run(init)\n",
    "    for _ in range(2):\n",
    "        init_features = []\n",
    "        init_labels = []\n",
    "        d = datagenerator()\n",
    "        for _ in range(10):\n",
    "            f, l = next(d)\n",
    "            init_features.append(f)\n",
    "            init_labels.append(l)\n",
    "        init_features = np.array(init_features)\n",
    "        init_labels = np.array(init_labels)\n",
    "        _, loss_val = sess.run([train_op, loss], feed_dict={input_features: init_features, input_labels:init_labels})\n",
    "        print(loss_val)"
   ]
  },
  {
   "cell_type": "code",
   "execution_count": null,
   "metadata": {},
   "outputs": [],
   "source": []
  }
 ],
 "metadata": {
  "kernelspec": {
   "display_name": "Python 3",
   "language": "python",
   "name": "python3"
  },
  "language_info": {
   "codemirror_mode": {
    "name": "ipython",
    "version": 3
   },
   "file_extension": ".py",
   "mimetype": "text/x-python",
   "name": "python",
   "nbconvert_exporter": "python",
   "pygments_lexer": "ipython3",
   "version": "3.5.2"
  }
 },
 "nbformat": 4,
 "nbformat_minor": 2
}
